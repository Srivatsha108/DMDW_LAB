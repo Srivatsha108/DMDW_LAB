{
  "nbformat": 4,
  "nbformat_minor": 0,
  "metadata": {
    "colab": {
      "name": "Assignment7.ipynb",
      "provenance": [],
      "collapsed_sections": [],
      "include_colab_link": true
    },
    "kernelspec": {
      "name": "python3",
      "display_name": "Python 3"
    }
  },
  "cells": [
    {
      "cell_type": "markdown",
      "metadata": {
        "id": "view-in-github",
        "colab_type": "text"
      },
      "source": [
        "<a href=\"https://colab.research.google.com/github/Srivatsha108/DMDW_LAB/blob/main/Assignment7.ipynb\" target=\"_parent\"><img src=\"https://colab.research.google.com/assets/colab-badge.svg\" alt=\"Open In Colab\"/></a>"
      ]
    },
    {
      "cell_type": "code",
      "metadata": {
        "id": "Q4PkJ0tMT4pc"
      },
      "source": [
        "import pandas as pd\n",
        "import numpy as np\n"
      ],
      "execution_count": 1,
      "outputs": []
    },
    {
      "cell_type": "code",
      "metadata": {
        "id": "Zrxe0PWSUEAw"
      },
      "source": [
        "dataset = pd.read_csv('https://raw.githubusercontent.com/GouriNayak/DMDW/main/iris.csv')"
      ],
      "execution_count": 2,
      "outputs": []
    },
    {
      "cell_type": "code",
      "metadata": {
        "colab": {
          "base_uri": "https://localhost:8080/",
          "height": 419
        },
        "id": "6NBuw9oNUmil",
        "outputId": "3472a876-5fe8-4a43-c3d2-1a1dad3f2bdf"
      },
      "source": [
        "dataset"
      ],
      "execution_count": 3,
      "outputs": [
        {
          "output_type": "execute_result",
          "data": {
            "text/html": [
              "<div>\n",
              "<style scoped>\n",
              "    .dataframe tbody tr th:only-of-type {\n",
              "        vertical-align: middle;\n",
              "    }\n",
              "\n",
              "    .dataframe tbody tr th {\n",
              "        vertical-align: top;\n",
              "    }\n",
              "\n",
              "    .dataframe thead th {\n",
              "        text-align: right;\n",
              "    }\n",
              "</style>\n",
              "<table border=\"1\" class=\"dataframe\">\n",
              "  <thead>\n",
              "    <tr style=\"text-align: right;\">\n",
              "      <th></th>\n",
              "      <th>sepal_length</th>\n",
              "      <th>sepal_width</th>\n",
              "      <th>petal_length</th>\n",
              "      <th>petal_width</th>\n",
              "      <th>species</th>\n",
              "    </tr>\n",
              "  </thead>\n",
              "  <tbody>\n",
              "    <tr>\n",
              "      <th>0</th>\n",
              "      <td>5.1</td>\n",
              "      <td>3.5</td>\n",
              "      <td>1.4</td>\n",
              "      <td>0.2</td>\n",
              "      <td>setosa</td>\n",
              "    </tr>\n",
              "    <tr>\n",
              "      <th>1</th>\n",
              "      <td>4.9</td>\n",
              "      <td>3.0</td>\n",
              "      <td>1.4</td>\n",
              "      <td>0.2</td>\n",
              "      <td>setosa</td>\n",
              "    </tr>\n",
              "    <tr>\n",
              "      <th>2</th>\n",
              "      <td>4.7</td>\n",
              "      <td>3.2</td>\n",
              "      <td>1.3</td>\n",
              "      <td>0.2</td>\n",
              "      <td>setosa</td>\n",
              "    </tr>\n",
              "    <tr>\n",
              "      <th>3</th>\n",
              "      <td>4.6</td>\n",
              "      <td>3.1</td>\n",
              "      <td>1.5</td>\n",
              "      <td>0.2</td>\n",
              "      <td>setosa</td>\n",
              "    </tr>\n",
              "    <tr>\n",
              "      <th>4</th>\n",
              "      <td>5.0</td>\n",
              "      <td>3.6</td>\n",
              "      <td>1.4</td>\n",
              "      <td>0.2</td>\n",
              "      <td>setosa</td>\n",
              "    </tr>\n",
              "    <tr>\n",
              "      <th>...</th>\n",
              "      <td>...</td>\n",
              "      <td>...</td>\n",
              "      <td>...</td>\n",
              "      <td>...</td>\n",
              "      <td>...</td>\n",
              "    </tr>\n",
              "    <tr>\n",
              "      <th>145</th>\n",
              "      <td>6.7</td>\n",
              "      <td>3.0</td>\n",
              "      <td>5.2</td>\n",
              "      <td>2.3</td>\n",
              "      <td>virginica</td>\n",
              "    </tr>\n",
              "    <tr>\n",
              "      <th>146</th>\n",
              "      <td>6.3</td>\n",
              "      <td>2.5</td>\n",
              "      <td>5.0</td>\n",
              "      <td>1.9</td>\n",
              "      <td>virginica</td>\n",
              "    </tr>\n",
              "    <tr>\n",
              "      <th>147</th>\n",
              "      <td>6.5</td>\n",
              "      <td>3.0</td>\n",
              "      <td>5.2</td>\n",
              "      <td>2.0</td>\n",
              "      <td>virginica</td>\n",
              "    </tr>\n",
              "    <tr>\n",
              "      <th>148</th>\n",
              "      <td>6.2</td>\n",
              "      <td>3.4</td>\n",
              "      <td>5.4</td>\n",
              "      <td>2.3</td>\n",
              "      <td>virginica</td>\n",
              "    </tr>\n",
              "    <tr>\n",
              "      <th>149</th>\n",
              "      <td>5.9</td>\n",
              "      <td>3.0</td>\n",
              "      <td>5.1</td>\n",
              "      <td>1.8</td>\n",
              "      <td>virginica</td>\n",
              "    </tr>\n",
              "  </tbody>\n",
              "</table>\n",
              "<p>150 rows × 5 columns</p>\n",
              "</div>"
            ],
            "text/plain": [
              "     sepal_length  sepal_width  petal_length  petal_width    species\n",
              "0             5.1          3.5           1.4          0.2     setosa\n",
              "1             4.9          3.0           1.4          0.2     setosa\n",
              "2             4.7          3.2           1.3          0.2     setosa\n",
              "3             4.6          3.1           1.5          0.2     setosa\n",
              "4             5.0          3.6           1.4          0.2     setosa\n",
              "..            ...          ...           ...          ...        ...\n",
              "145           6.7          3.0           5.2          2.3  virginica\n",
              "146           6.3          2.5           5.0          1.9  virginica\n",
              "147           6.5          3.0           5.2          2.0  virginica\n",
              "148           6.2          3.4           5.4          2.3  virginica\n",
              "149           5.9          3.0           5.1          1.8  virginica\n",
              "\n",
              "[150 rows x 5 columns]"
            ]
          },
          "metadata": {
            "tags": []
          },
          "execution_count": 3
        }
      ]
    },
    {
      "cell_type": "code",
      "metadata": {
        "colab": {
          "base_uri": "https://localhost:8080/",
          "height": 419
        },
        "id": "TvFf1fthUpKl",
        "outputId": "a0b3396a-1bb5-44aa-9976-49259470da67"
      },
      "source": [
        "dataset.iloc[:,1:5]"
      ],
      "execution_count": 4,
      "outputs": [
        {
          "output_type": "execute_result",
          "data": {
            "text/html": [
              "<div>\n",
              "<style scoped>\n",
              "    .dataframe tbody tr th:only-of-type {\n",
              "        vertical-align: middle;\n",
              "    }\n",
              "\n",
              "    .dataframe tbody tr th {\n",
              "        vertical-align: top;\n",
              "    }\n",
              "\n",
              "    .dataframe thead th {\n",
              "        text-align: right;\n",
              "    }\n",
              "</style>\n",
              "<table border=\"1\" class=\"dataframe\">\n",
              "  <thead>\n",
              "    <tr style=\"text-align: right;\">\n",
              "      <th></th>\n",
              "      <th>sepal_width</th>\n",
              "      <th>petal_length</th>\n",
              "      <th>petal_width</th>\n",
              "      <th>species</th>\n",
              "    </tr>\n",
              "  </thead>\n",
              "  <tbody>\n",
              "    <tr>\n",
              "      <th>0</th>\n",
              "      <td>3.5</td>\n",
              "      <td>1.4</td>\n",
              "      <td>0.2</td>\n",
              "      <td>setosa</td>\n",
              "    </tr>\n",
              "    <tr>\n",
              "      <th>1</th>\n",
              "      <td>3.0</td>\n",
              "      <td>1.4</td>\n",
              "      <td>0.2</td>\n",
              "      <td>setosa</td>\n",
              "    </tr>\n",
              "    <tr>\n",
              "      <th>2</th>\n",
              "      <td>3.2</td>\n",
              "      <td>1.3</td>\n",
              "      <td>0.2</td>\n",
              "      <td>setosa</td>\n",
              "    </tr>\n",
              "    <tr>\n",
              "      <th>3</th>\n",
              "      <td>3.1</td>\n",
              "      <td>1.5</td>\n",
              "      <td>0.2</td>\n",
              "      <td>setosa</td>\n",
              "    </tr>\n",
              "    <tr>\n",
              "      <th>4</th>\n",
              "      <td>3.6</td>\n",
              "      <td>1.4</td>\n",
              "      <td>0.2</td>\n",
              "      <td>setosa</td>\n",
              "    </tr>\n",
              "    <tr>\n",
              "      <th>...</th>\n",
              "      <td>...</td>\n",
              "      <td>...</td>\n",
              "      <td>...</td>\n",
              "      <td>...</td>\n",
              "    </tr>\n",
              "    <tr>\n",
              "      <th>145</th>\n",
              "      <td>3.0</td>\n",
              "      <td>5.2</td>\n",
              "      <td>2.3</td>\n",
              "      <td>virginica</td>\n",
              "    </tr>\n",
              "    <tr>\n",
              "      <th>146</th>\n",
              "      <td>2.5</td>\n",
              "      <td>5.0</td>\n",
              "      <td>1.9</td>\n",
              "      <td>virginica</td>\n",
              "    </tr>\n",
              "    <tr>\n",
              "      <th>147</th>\n",
              "      <td>3.0</td>\n",
              "      <td>5.2</td>\n",
              "      <td>2.0</td>\n",
              "      <td>virginica</td>\n",
              "    </tr>\n",
              "    <tr>\n",
              "      <th>148</th>\n",
              "      <td>3.4</td>\n",
              "      <td>5.4</td>\n",
              "      <td>2.3</td>\n",
              "      <td>virginica</td>\n",
              "    </tr>\n",
              "    <tr>\n",
              "      <th>149</th>\n",
              "      <td>3.0</td>\n",
              "      <td>5.1</td>\n",
              "      <td>1.8</td>\n",
              "      <td>virginica</td>\n",
              "    </tr>\n",
              "  </tbody>\n",
              "</table>\n",
              "<p>150 rows × 4 columns</p>\n",
              "</div>"
            ],
            "text/plain": [
              "     sepal_width  petal_length  petal_width    species\n",
              "0            3.5           1.4          0.2     setosa\n",
              "1            3.0           1.4          0.2     setosa\n",
              "2            3.2           1.3          0.2     setosa\n",
              "3            3.1           1.5          0.2     setosa\n",
              "4            3.6           1.4          0.2     setosa\n",
              "..           ...           ...          ...        ...\n",
              "145          3.0           5.2          2.3  virginica\n",
              "146          2.5           5.0          1.9  virginica\n",
              "147          3.0           5.2          2.0  virginica\n",
              "148          3.4           5.4          2.3  virginica\n",
              "149          3.0           5.1          1.8  virginica\n",
              "\n",
              "[150 rows x 4 columns]"
            ]
          },
          "metadata": {
            "tags": []
          },
          "execution_count": 4
        }
      ]
    },
    {
      "cell_type": "code",
      "metadata": {
        "colab": {
          "base_uri": "https://localhost:8080/"
        },
        "id": "TWZXQVXEU_uk",
        "outputId": "0541eee4-a2be-4ee2-bd5e-94a150ef1f34"
      },
      "source": [
        "dataset.iloc[:,1:4].values"
      ],
      "execution_count": 5,
      "outputs": [
        {
          "output_type": "execute_result",
          "data": {
            "text/plain": [
              "array([[3.5, 1.4, 0.2],\n",
              "       [3. , 1.4, 0.2],\n",
              "       [3.2, 1.3, 0.2],\n",
              "       [3.1, 1.5, 0.2],\n",
              "       [3.6, 1.4, 0.2],\n",
              "       [3.9, 1.7, 0.4],\n",
              "       [3.4, 1.4, 0.3],\n",
              "       [3.4, 1.5, 0.2],\n",
              "       [2.9, 1.4, 0.2],\n",
              "       [3.1, 1.5, 0.1],\n",
              "       [3.7, 1.5, 0.2],\n",
              "       [3.4, 1.6, 0.2],\n",
              "       [3. , 1.4, 0.1],\n",
              "       [3. , 1.1, 0.1],\n",
              "       [4. , 1.2, 0.2],\n",
              "       [4.4, 1.5, 0.4],\n",
              "       [3.9, 1.3, 0.4],\n",
              "       [3.5, 1.4, 0.3],\n",
              "       [3.8, 1.7, 0.3],\n",
              "       [3.8, 1.5, 0.3],\n",
              "       [3.4, 1.7, 0.2],\n",
              "       [3.7, 1.5, 0.4],\n",
              "       [3.6, 1. , 0.2],\n",
              "       [3.3, 1.7, 0.5],\n",
              "       [3.4, 1.9, 0.2],\n",
              "       [3. , 1.6, 0.2],\n",
              "       [3.4, 1.6, 0.4],\n",
              "       [3.5, 1.5, 0.2],\n",
              "       [3.4, 1.4, 0.2],\n",
              "       [3.2, 1.6, 0.2],\n",
              "       [3.1, 1.6, 0.2],\n",
              "       [3.4, 1.5, 0.4],\n",
              "       [4.1, 1.5, 0.1],\n",
              "       [4.2, 1.4, 0.2],\n",
              "       [3.1, 1.5, 0.2],\n",
              "       [3.2, 1.2, 0.2],\n",
              "       [3.5, 1.3, 0.2],\n",
              "       [3.6, 1.4, 0.1],\n",
              "       [3. , 1.3, 0.2],\n",
              "       [3.4, 1.5, 0.2],\n",
              "       [3.5, 1.3, 0.3],\n",
              "       [2.3, 1.3, 0.3],\n",
              "       [3.2, 1.3, 0.2],\n",
              "       [3.5, 1.6, 0.6],\n",
              "       [3.8, 1.9, 0.4],\n",
              "       [3. , 1.4, 0.3],\n",
              "       [3.8, 1.6, 0.2],\n",
              "       [3.2, 1.4, 0.2],\n",
              "       [3.7, 1.5, 0.2],\n",
              "       [3.3, 1.4, 0.2],\n",
              "       [3.2, 4.7, 1.4],\n",
              "       [3.2, 4.5, 1.5],\n",
              "       [3.1, 4.9, 1.5],\n",
              "       [2.3, 4. , 1.3],\n",
              "       [2.8, 4.6, 1.5],\n",
              "       [2.8, 4.5, 1.3],\n",
              "       [3.3, 4.7, 1.6],\n",
              "       [2.4, 3.3, 1. ],\n",
              "       [2.9, 4.6, 1.3],\n",
              "       [2.7, 3.9, 1.4],\n",
              "       [2. , 3.5, 1. ],\n",
              "       [3. , 4.2, 1.5],\n",
              "       [2.2, 4. , 1. ],\n",
              "       [2.9, 4.7, 1.4],\n",
              "       [2.9, 3.6, 1.3],\n",
              "       [3.1, 4.4, 1.4],\n",
              "       [3. , 4.5, 1.5],\n",
              "       [2.7, 4.1, 1. ],\n",
              "       [2.2, 4.5, 1.5],\n",
              "       [2.5, 3.9, 1.1],\n",
              "       [3.2, 4.8, 1.8],\n",
              "       [2.8, 4. , 1.3],\n",
              "       [2.5, 4.9, 1.5],\n",
              "       [2.8, 4.7, 1.2],\n",
              "       [2.9, 4.3, 1.3],\n",
              "       [3. , 4.4, 1.4],\n",
              "       [2.8, 4.8, 1.4],\n",
              "       [3. , 5. , 1.7],\n",
              "       [2.9, 4.5, 1.5],\n",
              "       [2.6, 3.5, 1. ],\n",
              "       [2.4, 3.8, 1.1],\n",
              "       [2.4, 3.7, 1. ],\n",
              "       [2.7, 3.9, 1.2],\n",
              "       [2.7, 5.1, 1.6],\n",
              "       [3. , 4.5, 1.5],\n",
              "       [3.4, 4.5, 1.6],\n",
              "       [3.1, 4.7, 1.5],\n",
              "       [2.3, 4.4, 1.3],\n",
              "       [3. , 4.1, 1.3],\n",
              "       [2.5, 4. , 1.3],\n",
              "       [2.6, 4.4, 1.2],\n",
              "       [3. , 4.6, 1.4],\n",
              "       [2.6, 4. , 1.2],\n",
              "       [2.3, 3.3, 1. ],\n",
              "       [2.7, 4.2, 1.3],\n",
              "       [3. , 4.2, 1.2],\n",
              "       [2.9, 4.2, 1.3],\n",
              "       [2.9, 4.3, 1.3],\n",
              "       [2.5, 3. , 1.1],\n",
              "       [2.8, 4.1, 1.3],\n",
              "       [3.3, 6. , 2.5],\n",
              "       [2.7, 5.1, 1.9],\n",
              "       [3. , 5.9, 2.1],\n",
              "       [2.9, 5.6, 1.8],\n",
              "       [3. , 5.8, 2.2],\n",
              "       [3. , 6.6, 2.1],\n",
              "       [2.5, 4.5, 1.7],\n",
              "       [2.9, 6.3, 1.8],\n",
              "       [2.5, 5.8, 1.8],\n",
              "       [3.6, 6.1, 2.5],\n",
              "       [3.2, 5.1, 2. ],\n",
              "       [2.7, 5.3, 1.9],\n",
              "       [3. , 5.5, 2.1],\n",
              "       [2.5, 5. , 2. ],\n",
              "       [2.8, 5.1, 2.4],\n",
              "       [3.2, 5.3, 2.3],\n",
              "       [3. , 5.5, 1.8],\n",
              "       [3.8, 6.7, 2.2],\n",
              "       [2.6, 6.9, 2.3],\n",
              "       [2.2, 5. , 1.5],\n",
              "       [3.2, 5.7, 2.3],\n",
              "       [2.8, 4.9, 2. ],\n",
              "       [2.8, 6.7, 2. ],\n",
              "       [2.7, 4.9, 1.8],\n",
              "       [3.3, 5.7, 2.1],\n",
              "       [3.2, 6. , 1.8],\n",
              "       [2.8, 4.8, 1.8],\n",
              "       [3. , 4.9, 1.8],\n",
              "       [2.8, 5.6, 2.1],\n",
              "       [3. , 5.8, 1.6],\n",
              "       [2.8, 6.1, 1.9],\n",
              "       [3.8, 6.4, 2. ],\n",
              "       [2.8, 5.6, 2.2],\n",
              "       [2.8, 5.1, 1.5],\n",
              "       [2.6, 5.6, 1.4],\n",
              "       [3. , 6.1, 2.3],\n",
              "       [3.4, 5.6, 2.4],\n",
              "       [3.1, 5.5, 1.8],\n",
              "       [3. , 4.8, 1.8],\n",
              "       [3.1, 5.4, 2.1],\n",
              "       [3.1, 5.6, 2.4],\n",
              "       [3.1, 5.1, 2.3],\n",
              "       [2.7, 5.1, 1.9],\n",
              "       [3.2, 5.9, 2.3],\n",
              "       [3.3, 5.7, 2.5],\n",
              "       [3. , 5.2, 2.3],\n",
              "       [2.5, 5. , 1.9],\n",
              "       [3. , 5.2, 2. ],\n",
              "       [3.4, 5.4, 2.3],\n",
              "       [3. , 5.1, 1.8]])"
            ]
          },
          "metadata": {
            "tags": []
          },
          "execution_count": 5
        }
      ]
    },
    {
      "cell_type": "code",
      "metadata": {
        "id": "bX4BgN4OVS1c"
      },
      "source": [
        "x=dataset.iloc[:,1:4].values"
      ],
      "execution_count": 6,
      "outputs": []
    },
    {
      "cell_type": "code",
      "metadata": {
        "id": "H_Ew56zkYcRm"
      },
      "source": [
        "y=dataset.iloc[:,-1].values"
      ],
      "execution_count": 8,
      "outputs": []
    },
    {
      "cell_type": "code",
      "metadata": {
        "colab": {
          "base_uri": "https://localhost:8080/"
        },
        "id": "017AEcDdZCPP",
        "outputId": "f8ed8fcd-c62a-449e-9e53-3e6a8bd7627c"
      },
      "source": [
        "y"
      ],
      "execution_count": 9,
      "outputs": [
        {
          "output_type": "execute_result",
          "data": {
            "text/plain": [
              "array(['setosa', 'setosa', 'setosa', 'setosa', 'setosa', 'setosa',\n",
              "       'setosa', 'setosa', 'setosa', 'setosa', 'setosa', 'setosa',\n",
              "       'setosa', 'setosa', 'setosa', 'setosa', 'setosa', 'setosa',\n",
              "       'setosa', 'setosa', 'setosa', 'setosa', 'setosa', 'setosa',\n",
              "       'setosa', 'setosa', 'setosa', 'setosa', 'setosa', 'setosa',\n",
              "       'setosa', 'setosa', 'setosa', 'setosa', 'setosa', 'setosa',\n",
              "       'setosa', 'setosa', 'setosa', 'setosa', 'setosa', 'setosa',\n",
              "       'setosa', 'setosa', 'setosa', 'setosa', 'setosa', 'setosa',\n",
              "       'setosa', 'setosa', 'versicolor', 'versicolor', 'versicolor',\n",
              "       'versicolor', 'versicolor', 'versicolor', 'versicolor',\n",
              "       'versicolor', 'versicolor', 'versicolor', 'versicolor',\n",
              "       'versicolor', 'versicolor', 'versicolor', 'versicolor',\n",
              "       'versicolor', 'versicolor', 'versicolor', 'versicolor',\n",
              "       'versicolor', 'versicolor', 'versicolor', 'versicolor',\n",
              "       'versicolor', 'versicolor', 'versicolor', 'versicolor',\n",
              "       'versicolor', 'versicolor', 'versicolor', 'versicolor',\n",
              "       'versicolor', 'versicolor', 'versicolor', 'versicolor',\n",
              "       'versicolor', 'versicolor', 'versicolor', 'versicolor',\n",
              "       'versicolor', 'versicolor', 'versicolor', 'versicolor',\n",
              "       'versicolor', 'versicolor', 'versicolor', 'versicolor',\n",
              "       'versicolor', 'versicolor', 'versicolor', 'virginica', 'virginica',\n",
              "       'virginica', 'virginica', 'virginica', 'virginica', 'virginica',\n",
              "       'virginica', 'virginica', 'virginica', 'virginica', 'virginica',\n",
              "       'virginica', 'virginica', 'virginica', 'virginica', 'virginica',\n",
              "       'virginica', 'virginica', 'virginica', 'virginica', 'virginica',\n",
              "       'virginica', 'virginica', 'virginica', 'virginica', 'virginica',\n",
              "       'virginica', 'virginica', 'virginica', 'virginica', 'virginica',\n",
              "       'virginica', 'virginica', 'virginica', 'virginica', 'virginica',\n",
              "       'virginica', 'virginica', 'virginica', 'virginica', 'virginica',\n",
              "       'virginica', 'virginica', 'virginica', 'virginica', 'virginica',\n",
              "       'virginica', 'virginica', 'virginica'], dtype=object)"
            ]
          },
          "metadata": {
            "tags": []
          },
          "execution_count": 9
        }
      ]
    },
    {
      "cell_type": "code",
      "metadata": {
        "id": "RHSupxDZZDt_"
      },
      "source": [
        "from sklearn.preprocessing import LabelEncoder\n",
        "LabelEncoder_y = LabelEncoder()\n",
        "y = LabelEncoder_y.fit_transform(y)"
      ],
      "execution_count": 10,
      "outputs": []
    },
    {
      "cell_type": "code",
      "metadata": {
        "colab": {
          "base_uri": "https://localhost:8080/"
        },
        "id": "G0R7Xap2ZuVG",
        "outputId": "c86a253a-bbcb-48ae-ee93-5e2d045001de"
      },
      "source": [
        "y"
      ],
      "execution_count": 11,
      "outputs": [
        {
          "output_type": "execute_result",
          "data": {
            "text/plain": [
              "array([0, 0, 0, 0, 0, 0, 0, 0, 0, 0, 0, 0, 0, 0, 0, 0, 0, 0, 0, 0, 0, 0,\n",
              "       0, 0, 0, 0, 0, 0, 0, 0, 0, 0, 0, 0, 0, 0, 0, 0, 0, 0, 0, 0, 0, 0,\n",
              "       0, 0, 0, 0, 0, 0, 1, 1, 1, 1, 1, 1, 1, 1, 1, 1, 1, 1, 1, 1, 1, 1,\n",
              "       1, 1, 1, 1, 1, 1, 1, 1, 1, 1, 1, 1, 1, 1, 1, 1, 1, 1, 1, 1, 1, 1,\n",
              "       1, 1, 1, 1, 1, 1, 1, 1, 1, 1, 1, 1, 2, 2, 2, 2, 2, 2, 2, 2, 2, 2,\n",
              "       2, 2, 2, 2, 2, 2, 2, 2, 2, 2, 2, 2, 2, 2, 2, 2, 2, 2, 2, 2, 2, 2,\n",
              "       2, 2, 2, 2, 2, 2, 2, 2, 2, 2, 2, 2, 2, 2, 2, 2, 2, 2])"
            ]
          },
          "metadata": {
            "tags": []
          },
          "execution_count": 11
        }
      ]
    },
    {
      "cell_type": "code",
      "metadata": {
        "colab": {
          "base_uri": "https://localhost:8080/"
        },
        "id": "lu0JmIc2a1EU",
        "outputId": "d9efac52-6dc4-4168-b4f2-8c15cf32060c"
      },
      "source": [
        "x"
      ],
      "execution_count": 12,
      "outputs": [
        {
          "output_type": "execute_result",
          "data": {
            "text/plain": [
              "array([[3.5, 1.4, 0.2],\n",
              "       [3. , 1.4, 0.2],\n",
              "       [3.2, 1.3, 0.2],\n",
              "       [3.1, 1.5, 0.2],\n",
              "       [3.6, 1.4, 0.2],\n",
              "       [3.9, 1.7, 0.4],\n",
              "       [3.4, 1.4, 0.3],\n",
              "       [3.4, 1.5, 0.2],\n",
              "       [2.9, 1.4, 0.2],\n",
              "       [3.1, 1.5, 0.1],\n",
              "       [3.7, 1.5, 0.2],\n",
              "       [3.4, 1.6, 0.2],\n",
              "       [3. , 1.4, 0.1],\n",
              "       [3. , 1.1, 0.1],\n",
              "       [4. , 1.2, 0.2],\n",
              "       [4.4, 1.5, 0.4],\n",
              "       [3.9, 1.3, 0.4],\n",
              "       [3.5, 1.4, 0.3],\n",
              "       [3.8, 1.7, 0.3],\n",
              "       [3.8, 1.5, 0.3],\n",
              "       [3.4, 1.7, 0.2],\n",
              "       [3.7, 1.5, 0.4],\n",
              "       [3.6, 1. , 0.2],\n",
              "       [3.3, 1.7, 0.5],\n",
              "       [3.4, 1.9, 0.2],\n",
              "       [3. , 1.6, 0.2],\n",
              "       [3.4, 1.6, 0.4],\n",
              "       [3.5, 1.5, 0.2],\n",
              "       [3.4, 1.4, 0.2],\n",
              "       [3.2, 1.6, 0.2],\n",
              "       [3.1, 1.6, 0.2],\n",
              "       [3.4, 1.5, 0.4],\n",
              "       [4.1, 1.5, 0.1],\n",
              "       [4.2, 1.4, 0.2],\n",
              "       [3.1, 1.5, 0.2],\n",
              "       [3.2, 1.2, 0.2],\n",
              "       [3.5, 1.3, 0.2],\n",
              "       [3.6, 1.4, 0.1],\n",
              "       [3. , 1.3, 0.2],\n",
              "       [3.4, 1.5, 0.2],\n",
              "       [3.5, 1.3, 0.3],\n",
              "       [2.3, 1.3, 0.3],\n",
              "       [3.2, 1.3, 0.2],\n",
              "       [3.5, 1.6, 0.6],\n",
              "       [3.8, 1.9, 0.4],\n",
              "       [3. , 1.4, 0.3],\n",
              "       [3.8, 1.6, 0.2],\n",
              "       [3.2, 1.4, 0.2],\n",
              "       [3.7, 1.5, 0.2],\n",
              "       [3.3, 1.4, 0.2],\n",
              "       [3.2, 4.7, 1.4],\n",
              "       [3.2, 4.5, 1.5],\n",
              "       [3.1, 4.9, 1.5],\n",
              "       [2.3, 4. , 1.3],\n",
              "       [2.8, 4.6, 1.5],\n",
              "       [2.8, 4.5, 1.3],\n",
              "       [3.3, 4.7, 1.6],\n",
              "       [2.4, 3.3, 1. ],\n",
              "       [2.9, 4.6, 1.3],\n",
              "       [2.7, 3.9, 1.4],\n",
              "       [2. , 3.5, 1. ],\n",
              "       [3. , 4.2, 1.5],\n",
              "       [2.2, 4. , 1. ],\n",
              "       [2.9, 4.7, 1.4],\n",
              "       [2.9, 3.6, 1.3],\n",
              "       [3.1, 4.4, 1.4],\n",
              "       [3. , 4.5, 1.5],\n",
              "       [2.7, 4.1, 1. ],\n",
              "       [2.2, 4.5, 1.5],\n",
              "       [2.5, 3.9, 1.1],\n",
              "       [3.2, 4.8, 1.8],\n",
              "       [2.8, 4. , 1.3],\n",
              "       [2.5, 4.9, 1.5],\n",
              "       [2.8, 4.7, 1.2],\n",
              "       [2.9, 4.3, 1.3],\n",
              "       [3. , 4.4, 1.4],\n",
              "       [2.8, 4.8, 1.4],\n",
              "       [3. , 5. , 1.7],\n",
              "       [2.9, 4.5, 1.5],\n",
              "       [2.6, 3.5, 1. ],\n",
              "       [2.4, 3.8, 1.1],\n",
              "       [2.4, 3.7, 1. ],\n",
              "       [2.7, 3.9, 1.2],\n",
              "       [2.7, 5.1, 1.6],\n",
              "       [3. , 4.5, 1.5],\n",
              "       [3.4, 4.5, 1.6],\n",
              "       [3.1, 4.7, 1.5],\n",
              "       [2.3, 4.4, 1.3],\n",
              "       [3. , 4.1, 1.3],\n",
              "       [2.5, 4. , 1.3],\n",
              "       [2.6, 4.4, 1.2],\n",
              "       [3. , 4.6, 1.4],\n",
              "       [2.6, 4. , 1.2],\n",
              "       [2.3, 3.3, 1. ],\n",
              "       [2.7, 4.2, 1.3],\n",
              "       [3. , 4.2, 1.2],\n",
              "       [2.9, 4.2, 1.3],\n",
              "       [2.9, 4.3, 1.3],\n",
              "       [2.5, 3. , 1.1],\n",
              "       [2.8, 4.1, 1.3],\n",
              "       [3.3, 6. , 2.5],\n",
              "       [2.7, 5.1, 1.9],\n",
              "       [3. , 5.9, 2.1],\n",
              "       [2.9, 5.6, 1.8],\n",
              "       [3. , 5.8, 2.2],\n",
              "       [3. , 6.6, 2.1],\n",
              "       [2.5, 4.5, 1.7],\n",
              "       [2.9, 6.3, 1.8],\n",
              "       [2.5, 5.8, 1.8],\n",
              "       [3.6, 6.1, 2.5],\n",
              "       [3.2, 5.1, 2. ],\n",
              "       [2.7, 5.3, 1.9],\n",
              "       [3. , 5.5, 2.1],\n",
              "       [2.5, 5. , 2. ],\n",
              "       [2.8, 5.1, 2.4],\n",
              "       [3.2, 5.3, 2.3],\n",
              "       [3. , 5.5, 1.8],\n",
              "       [3.8, 6.7, 2.2],\n",
              "       [2.6, 6.9, 2.3],\n",
              "       [2.2, 5. , 1.5],\n",
              "       [3.2, 5.7, 2.3],\n",
              "       [2.8, 4.9, 2. ],\n",
              "       [2.8, 6.7, 2. ],\n",
              "       [2.7, 4.9, 1.8],\n",
              "       [3.3, 5.7, 2.1],\n",
              "       [3.2, 6. , 1.8],\n",
              "       [2.8, 4.8, 1.8],\n",
              "       [3. , 4.9, 1.8],\n",
              "       [2.8, 5.6, 2.1],\n",
              "       [3. , 5.8, 1.6],\n",
              "       [2.8, 6.1, 1.9],\n",
              "       [3.8, 6.4, 2. ],\n",
              "       [2.8, 5.6, 2.2],\n",
              "       [2.8, 5.1, 1.5],\n",
              "       [2.6, 5.6, 1.4],\n",
              "       [3. , 6.1, 2.3],\n",
              "       [3.4, 5.6, 2.4],\n",
              "       [3.1, 5.5, 1.8],\n",
              "       [3. , 4.8, 1.8],\n",
              "       [3.1, 5.4, 2.1],\n",
              "       [3.1, 5.6, 2.4],\n",
              "       [3.1, 5.1, 2.3],\n",
              "       [2.7, 5.1, 1.9],\n",
              "       [3.2, 5.9, 2.3],\n",
              "       [3.3, 5.7, 2.5],\n",
              "       [3. , 5.2, 2.3],\n",
              "       [2.5, 5. , 1.9],\n",
              "       [3. , 5.2, 2. ],\n",
              "       [3.4, 5.4, 2.3],\n",
              "       [3. , 5.1, 1.8]])"
            ]
          },
          "metadata": {
            "tags": []
          },
          "execution_count": 12
        }
      ]
    },
    {
      "cell_type": "code",
      "metadata": {
        "id": "L45U2UecbU4T"
      },
      "source": [
        "from sklearn.model_selection import train_test_split\n",
        "x_train, x_test, y_train, y_test = train_test_split(x,y,test_size=0.2)"
      ],
      "execution_count": 13,
      "outputs": []
    },
    {
      "cell_type": "code",
      "metadata": {
        "colab": {
          "base_uri": "https://localhost:8080/"
        },
        "id": "JTRMk0qUcUdB",
        "outputId": "c0c6e01c-fa61-4e88-9a2c-1269d56d0e92"
      },
      "source": [
        "from sklearn.linear_model import LogisticRegression\n",
        "logmodel = LogisticRegression()\n",
        "logmodel.fit(x_train,y_train)"
      ],
      "execution_count": 14,
      "outputs": [
        {
          "output_type": "execute_result",
          "data": {
            "text/plain": [
              "LogisticRegression(C=1.0, class_weight=None, dual=False, fit_intercept=True,\n",
              "                   intercept_scaling=1, l1_ratio=None, max_iter=100,\n",
              "                   multi_class='auto', n_jobs=None, penalty='l2',\n",
              "                   random_state=None, solver='lbfgs', tol=0.0001, verbose=0,\n",
              "                   warm_start=False)"
            ]
          },
          "metadata": {
            "tags": []
          },
          "execution_count": 14
        }
      ]
    },
    {
      "cell_type": "code",
      "metadata": {
        "id": "uqkxu_SvdF5x"
      },
      "source": [
        "y_pred = logmodel.predict(x_test)"
      ],
      "execution_count": 15,
      "outputs": []
    },
    {
      "cell_type": "code",
      "metadata": {
        "colab": {
          "base_uri": "https://localhost:8080/"
        },
        "id": "JL7HV9u3dXfh",
        "outputId": "00a1b450-6ca9-4548-acbd-46718ff58b2c"
      },
      "source": [
        "y_pred"
      ],
      "execution_count": 16,
      "outputs": [
        {
          "output_type": "execute_result",
          "data": {
            "text/plain": [
              "array([1, 2, 0, 1, 0, 1, 0, 1, 0, 0, 2, 2, 0, 1, 1, 1, 0, 1, 0, 0, 0, 1,\n",
              "       1, 2, 2, 0, 0, 2, 1, 1])"
            ]
          },
          "metadata": {
            "tags": []
          },
          "execution_count": 16
        }
      ]
    },
    {
      "cell_type": "code",
      "metadata": {
        "colab": {
          "base_uri": "https://localhost:8080/"
        },
        "id": "4kq6jgcvdY74",
        "outputId": "81c82772-e688-481c-9938-46fad8496087"
      },
      "source": [
        "y_test"
      ],
      "execution_count": 17,
      "outputs": [
        {
          "output_type": "execute_result",
          "data": {
            "text/plain": [
              "array([1, 1, 0, 1, 0, 1, 0, 1, 0, 0, 2, 2, 0, 1, 1, 1, 0, 1, 0, 0, 0, 1,\n",
              "       1, 2, 2, 0, 0, 2, 1, 1])"
            ]
          },
          "metadata": {
            "tags": []
          },
          "execution_count": 17
        }
      ]
    },
    {
      "cell_type": "code",
      "metadata": {
        "colab": {
          "base_uri": "https://localhost:8080/"
        },
        "id": "Z5pogUkKd1d4",
        "outputId": "24e7f2de-352e-47f4-8ebc-db6cd59fdfa7"
      },
      "source": [
        "from sklearn.metrics import confusion_matrix\n",
        "confusion_matrix(y_test, y_pred)"
      ],
      "execution_count": 18,
      "outputs": [
        {
          "output_type": "execute_result",
          "data": {
            "text/plain": [
              "array([[12,  0,  0],\n",
              "       [ 0, 12,  1],\n",
              "       [ 0,  0,  5]])"
            ]
          },
          "metadata": {
            "tags": []
          },
          "execution_count": 18
        }
      ]
    },
    {
      "cell_type": "code",
      "metadata": {
        "colab": {
          "base_uri": "https://localhost:8080/"
        },
        "id": "iAyTzD1-fucV",
        "outputId": "32342404-e259-4965-8481-4e462afd16c4"
      },
      "source": [
        "from sklearn.neighbors import KNeighborsClassifier\n",
        "classifier_knn = KNeighborsClassifier(n_neighbors = 5, metric = 'minkowski', p=2)\n",
        "classifier_knn.fit(x_train, y_train)"
      ],
      "execution_count": 19,
      "outputs": [
        {
          "output_type": "execute_result",
          "data": {
            "text/plain": [
              "KNeighborsClassifier(algorithm='auto', leaf_size=30, metric='minkowski',\n",
              "                     metric_params=None, n_jobs=None, n_neighbors=5, p=2,\n",
              "                     weights='uniform')"
            ]
          },
          "metadata": {
            "tags": []
          },
          "execution_count": 19
        }
      ]
    },
    {
      "cell_type": "code",
      "metadata": {
        "id": "LnRaEYq9hApE"
      },
      "source": [
        "y_pred = classifier_knn.predict(x_test)"
      ],
      "execution_count": 20,
      "outputs": []
    },
    {
      "cell_type": "code",
      "metadata": {
        "colab": {
          "base_uri": "https://localhost:8080/"
        },
        "id": "WaYClB1ehOeD",
        "outputId": "911a1883-970d-4fc4-ebcd-6dbaf20eee39"
      },
      "source": [
        "confusion_matrix(y_test,y_pred)"
      ],
      "execution_count": 21,
      "outputs": [
        {
          "output_type": "execute_result",
          "data": {
            "text/plain": [
              "array([[12,  0,  0],\n",
              "       [ 0, 12,  1],\n",
              "       [ 0,  0,  5]])"
            ]
          },
          "metadata": {
            "tags": []
          },
          "execution_count": 21
        }
      ]
    },
    {
      "cell_type": "code",
      "metadata": {
        "colab": {
          "base_uri": "https://localhost:8080/"
        },
        "id": "KyoLmmwOhpZJ",
        "outputId": "f3cb7a61-07e3-4052-c423-c6a377902052"
      },
      "source": [
        "from sklearn.naive_bayes import GaussianNB\n",
        "classifier_nb = GaussianNB()\n",
        "classifier_nb.fit(x_train,y_train)"
      ],
      "execution_count": 22,
      "outputs": [
        {
          "output_type": "execute_result",
          "data": {
            "text/plain": [
              "GaussianNB(priors=None, var_smoothing=1e-09)"
            ]
          },
          "metadata": {
            "tags": []
          },
          "execution_count": 22
        }
      ]
    },
    {
      "cell_type": "code",
      "metadata": {
        "id": "v9jDmscpiWJr"
      },
      "source": [
        "y_pred = classifier_nb.predict(x_test)"
      ],
      "execution_count": 23,
      "outputs": []
    },
    {
      "cell_type": "code",
      "metadata": {
        "colab": {
          "base_uri": "https://localhost:8080/"
        },
        "id": "KfLn8nhhiKYk",
        "outputId": "8e3d002e-c598-4881-fadf-b8119fad23fe"
      },
      "source": [
        "confusion_matrix(y_test,y_pred)"
      ],
      "execution_count": 24,
      "outputs": [
        {
          "output_type": "execute_result",
          "data": {
            "text/plain": [
              "array([[12,  0,  0],\n",
              "       [ 0, 12,  1],\n",
              "       [ 0,  0,  5]])"
            ]
          },
          "metadata": {
            "tags": []
          },
          "execution_count": 24
        }
      ]
    },
    {
      "cell_type": "code",
      "metadata": {
        "colab": {
          "base_uri": "https://localhost:8080/"
        },
        "id": "ptZ68792nvFW",
        "outputId": "6b8240ec-ebb1-4019-d09b-452fd7670a81"
      },
      "source": [
        "from sklearn.tree import DecisionTreeClassifier\n",
        "classifier_dt = DecisionTreeClassifier(criterion = 'entropy')\n",
        "classifier_dt.fit(x_train,y_train)"
      ],
      "execution_count": 25,
      "outputs": [
        {
          "output_type": "execute_result",
          "data": {
            "text/plain": [
              "DecisionTreeClassifier(ccp_alpha=0.0, class_weight=None, criterion='entropy',\n",
              "                       max_depth=None, max_features=None, max_leaf_nodes=None,\n",
              "                       min_impurity_decrease=0.0, min_impurity_split=None,\n",
              "                       min_samples_leaf=1, min_samples_split=2,\n",
              "                       min_weight_fraction_leaf=0.0, presort='deprecated',\n",
              "                       random_state=None, splitter='best')"
            ]
          },
          "metadata": {
            "tags": []
          },
          "execution_count": 25
        }
      ]
    },
    {
      "cell_type": "code",
      "metadata": {
        "id": "mHBHmDyxoUJV"
      },
      "source": [
        "y_pred = classifier_dt.predict(x_test)"
      ],
      "execution_count": 26,
      "outputs": []
    },
    {
      "cell_type": "code",
      "metadata": {
        "colab": {
          "base_uri": "https://localhost:8080/"
        },
        "id": "QbdfAkwaot38",
        "outputId": "3292f2ac-1d40-4726-ef00-d7a23d571f74"
      },
      "source": [
        "confusion_matrix(y_test,y_pred)"
      ],
      "execution_count": 27,
      "outputs": [
        {
          "output_type": "execute_result",
          "data": {
            "text/plain": [
              "array([[12,  0,  0],\n",
              "       [ 0, 12,  1],\n",
              "       [ 0,  0,  5]])"
            ]
          },
          "metadata": {
            "tags": []
          },
          "execution_count": 27
        }
      ]
    },
    {
      "cell_type": "code",
      "metadata": {
        "id": "-uCoXfvcovnS"
      },
      "source": [
        ""
      ],
      "execution_count": null,
      "outputs": []
    }
  ]
}